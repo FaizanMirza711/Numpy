{
 "cells": [
  {
   "cell_type": "code",
   "execution_count": 1,
   "id": "9c6e2b43",
   "metadata": {},
   "outputs": [],
   "source": [
    "import numpy as np"
   ]
  },
  {
   "cell_type": "markdown",
   "id": "33aa34e2",
   "metadata": {},
   "source": [
    "# Importing CSV dataset"
   ]
  },
  {
   "cell_type": "code",
   "execution_count": 2,
   "id": "303cb0e7",
   "metadata": {},
   "outputs": [],
   "source": [
    "data = np.genfromtxt('nyc_taxis.csv', delimiter = ',',skip_header =True)"
   ]
  },
  {
   "cell_type": "code",
   "execution_count": 3,
   "id": "b6a03cd2",
   "metadata": {},
   "outputs": [],
   "source": [
    "speed = data[:,7]/ (data[:, 8]/3600)"
   ]
  },
  {
   "cell_type": "markdown",
   "id": "71a78efd",
   "metadata": {},
   "source": [
    "# Mean speed of all the cabs in company"
   ]
  },
  {
   "cell_type": "code",
   "execution_count": 4,
   "id": "ab14be9b",
   "metadata": {},
   "outputs": [
    {
     "name": "stdout",
     "output_type": "stream",
     "text": [
      "32.24258580925573\n"
     ]
    }
   ],
   "source": [
    "mean_speed= speed.mean()\n",
    "print(mean_speed)\n"
   ]
  },
  {
   "cell_type": "markdown",
   "id": "38c83562",
   "metadata": {},
   "source": [
    "# cab Rides taken in The Month Of Feb"
   ]
  },
  {
   "cell_type": "code",
   "execution_count": 5,
   "id": "fb5a7174",
   "metadata": {},
   "outputs": [],
   "source": [
    "feb_rides = data[data[:,1] ==2 ,1]\n"
   ]
  },
  {
   "cell_type": "markdown",
   "id": "d3852b3c",
   "metadata": {},
   "source": [
    "**here rides amont withs with code 2 are seperated**"
   ]
  },
  {
   "cell_type": "code",
   "execution_count": 6,
   "id": "459b9ea5",
   "metadata": {},
   "outputs": [
    {
     "name": "stdout",
     "output_type": "stream",
     "text": [
      "13333\n"
     ]
    }
   ],
   "source": [
    "\n",
    "print(feb_rides.shape[0])"
   ]
  },
  {
   "cell_type": "markdown",
   "id": "1ece00af",
   "metadata": {},
   "source": [
    "# Here .shape[0] counts"
   ]
  },
  {
   "cell_type": "markdown",
   "id": "71bca4db",
   "metadata": {},
   "source": [
    "# Total cabs Who are Tipped More than 50 Dollers"
   ]
  },
  {
   "cell_type": "code",
   "execution_count": 7,
   "id": "8363e70b",
   "metadata": {},
   "outputs": [
    {
     "name": "stdout",
     "output_type": "stream",
     "text": [
      "16\n"
     ]
    }
   ],
   "source": [
    "grt_fifty = data[data[:,-3]>50,-3]\n",
    "print(grt_fifty.shape[0])"
   ]
  },
  {
   "cell_type": "markdown",
   "id": "3d88fc26",
   "metadata": {},
   "source": [
    "# total numer of Cabs Who Dropped To JFK station"
   ]
  },
  {
   "cell_type": "code",
   "execution_count": 8,
   "id": "baa0e0d4",
   "metadata": {},
   "outputs": [
    {
     "name": "stdout",
     "output_type": "stream",
     "text": [
      "11832\n"
     ]
    }
   ],
   "source": [
    "print(data[data[:,6]==2,2].shape[0])"
   ]
  },
  {
   "cell_type": "markdown",
   "id": "81817438",
   "metadata": {},
   "source": [
    "# Total cab Rides in Year 2016"
   ]
  },
  {
   "cell_type": "code",
   "execution_count": 9,
   "id": "95e76d9a",
   "metadata": {},
   "outputs": [
    {
     "name": "stdout",
     "output_type": "stream",
     "text": [
      "89560\n"
     ]
    }
   ],
   "source": [
    "print(data[:,0].shape[0])"
   ]
  },
  {
   "cell_type": "code",
   "execution_count": 10,
   "id": "4d32aaae",
   "metadata": {},
   "outputs": [
    {
     "name": "stdout",
     "output_type": "stream",
     "text": [
      "89560\n"
     ]
    }
   ],
   "source": [
    "print(data[data[:,0]==2016,0].shape[0])"
   ]
  },
  {
   "cell_type": "markdown",
   "id": "652cf34f",
   "metadata": {},
   "source": [
    "# Total Turnover of Company For FY2016"
   ]
  },
  {
   "cell_type": "code",
   "execution_count": 11,
   "id": "17ec20a1",
   "metadata": {},
   "outputs": [
    {
     "name": "stdout",
     "output_type": "stream",
     "text": [
      "4385454.29\n"
     ]
    }
   ],
   "source": [
    "amount=data[:,-2]\n",
    "print(np.sum(amount))"
   ]
  },
  {
   "cell_type": "markdown",
   "id": "6944e550",
   "metadata": {},
   "source": [
    "# Amount of Payments made through UPI"
   ]
  },
  {
   "cell_type": "code",
   "execution_count": 12,
   "id": "06bae6a0",
   "metadata": {},
   "outputs": [
    {
     "name": "stdout",
     "output_type": "stream",
     "text": [
      "1026203.6100000001\n"
     ]
    }
   ],
   "source": [
    "amount_upi=data[data[:,-1]==2,-2]\n",
    "print(np.sum(amount_upi))"
   ]
  },
  {
   "cell_type": "markdown",
   "id": "762f6d55",
   "metadata": {},
   "source": [
    "# Amount of payment made through Cash"
   ]
  },
  {
   "cell_type": "code",
   "execution_count": 13,
   "id": "991ebaf8",
   "metadata": {},
   "outputs": [
    {
     "name": "stdout",
     "output_type": "stream",
     "text": [
      "3340085.66\n"
     ]
    }
   ],
   "source": [
    "amount_upi=data[data[:,-1]==1,-2]\n",
    "print(np.sum(amount_upi))"
   ]
  },
  {
   "cell_type": "markdown",
   "id": "f8e918e4",
   "metadata": {},
   "source": [
    "# Which Month of the year 2016 genrates highest revenue"
   ]
  },
  {
   "cell_type": "code",
   "execution_count": 14,
   "id": "3ad35021",
   "metadata": {},
   "outputs": [
    {
     "name": "stdout",
     "output_type": "stream",
     "text": [
      "Months with maximum amount: [5.]\n"
     ]
    }
   ],
   "source": [
    "\n",
    "# Extract pickup_month and total_amount columns\n",
    "pickup_month = data[:, 1]\n",
    "total_amount = data[:, -2]\n",
    "\n",
    "# Find the maximum amount\n",
    "max_amount = np.max(total_amount)\n",
    "\n",
    "# Find the indices where the amount equals the maximum amount\n",
    "max_amount_indices = np.where(total_amount == max_amount)[0]\n",
    "\n",
    "# Select the corresponding months\n",
    "months_with_max_amount = pickup_month[max_amount_indices]\n",
    "\n",
    "print(\"Months with maximum amount:\", months_with_max_amount)"
   ]
  },
  {
   "cell_type": "code",
   "execution_count": null,
   "id": "36afa718",
   "metadata": {},
   "outputs": [],
   "source": []
  }
 ],
 "metadata": {
  "kernelspec": {
   "display_name": "Python 3 (ipykernel)",
   "language": "python",
   "name": "python3"
  },
  "language_info": {
   "codemirror_mode": {
    "name": "ipython",
    "version": 3
   },
   "file_extension": ".py",
   "mimetype": "text/x-python",
   "name": "python",
   "nbconvert_exporter": "python",
   "pygments_lexer": "ipython3",
   "version": "3.10.2"
  }
 },
 "nbformat": 4,
 "nbformat_minor": 5
}
